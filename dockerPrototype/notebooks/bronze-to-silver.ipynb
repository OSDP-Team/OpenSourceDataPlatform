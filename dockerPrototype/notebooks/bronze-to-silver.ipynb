{
 "cells": [
  {
   "cell_type": "code",
   "execution_count": 1,
   "id": "20ee7911",
   "metadata": {
    "scrolled": true
   },
   "outputs": [
    {
     "name": "stdout",
     "output_type": "stream",
     "text": [
      "Aktuelles Arbeitsverzeichnis (getcwd): /home/jovyan/work\n",
      "Erwarteter Pfad zur .env-Datei: /home/jovyan/work/docker/.env\n",
      "INFO: .env-Datei erfolgreich gefunden.\n",
      "Spark Session wurde gestartet und erfolgreich für MinIO konfiguriert.\n",
      "Verbindung zu MinIO-Endpoint: http://localhost:9000 mit User: minioadmin\n"
     ]
    }
   ],
   "source": [
    "import os\n",
    "from dotenv import load_dotenv\n",
    "from pyspark.sql import SparkSession\n",
    "\n",
    "current_dir = os.getcwd() \n",
    "project_root = os.path.dirname(current_dir) \n",
    "dotenv_path = os.path.join(project_root, 'docker', '.env')\n",
    "\n",
    "print(f\"Aktuelles Arbeitsverzeichnis (getcwd): {project_root}\")\n",
    "print(f\"Erwarteter Pfad zur .env-Datei: {dotenv_path}\")\n",
    "\n",
    "if not os.path.exists(dotenv_path):\n",
    "    raise FileNotFoundError(f\"FEHLER: Die .env-Datei wurde nicht im Pfad '{dotenv_path}' gefunden. Bitte stellen Sie sicher, dass Sie das Skript vom richtigen Verzeichnis aus starten.\")\n",
    "else:\n",
    "    print(\"INFO: .env-Datei erfolgreich gefunden.\")\n",
    "\n",
    "load_dotenv(dotenv_path=dotenv_path)\n",
    "\n",
    "MINIO_ENDPOINT = os.getenv(\"MINIO_ENDPOINT\")\n",
    "MINIO_ACCESS_KEY = os.getenv(\"MINIO_ROOT_USER\")\n",
    "MINIO_SECRET_KEY = os.getenv(\"MINIO_ROOT_PASSWORD\")\n",
    "\n",
    "if not all([MINIO_ENDPOINT ,MINIO_ACCESS_KEY, MINIO_SECRET_KEY]):\n",
    "    raise ValueError(\"MinIO-Zugangsdaten nicht in der .env-Datei gefunden oder nicht geladen.\")\n",
    "    \n",
    "spark = (\n",
    "    SparkSession.builder\n",
    "        .appName(\"Jupyter-Interactive-Session\")\n",
    "        .master(\"spark://spark-master:7077\")  # <-- Entscheidend für Cluster-Verbindung\n",
    "        \n",
    "        # Konfiguration für JARs und MinIO-Treiber\n",
    "        .config(\"spark.jars\", \"/usr/local/spark/jars/hadoop-aws-3.3.4.jar,/usr/local/spark/jars/aws-java-sdk-bundle-1.12.688.jar\")\n",
    "        .config(\"spark.hadoop.fs.s3a.impl\", \"org.apache.hadoop.fs.s3a.S3AFileSystem\")\n",
    "        .config(\"spark.hadoop.fs.s3a.path.style.access\", \"true\")\n",
    "        .config(\"spark.hadoop.fs.s3a.connection.ssl.enabled\", \"false\")\n",
    "        \n",
    "        # Konfiguration für MinIO-Zugangsdaten\n",
    "        .config(\"spark.hadoop.fs.s3a.endpoint\", MINIO_ENDPOINT)\n",
    "        .config(\"spark.hadoop.fs.s3a.access.key\", MINIO_ACCESS_KEY)\n",
    "        .config(\"spark.hadoop.fs.s3a.secret.key\", MINIO_SECRET_KEY)\n",
    "        \n",
    "        # Wichtige Netzwerkkonfiguration für Docker\n",
    "        .config(\"spark.driver.host\", \"jupyter\")\n",
    "        .getOrCreate()\n",
    ")\n",
    "\n",
    "\n",
    "print(\"Spark Session wurde gestartet und erfolgreich für MinIO konfiguriert.\")\n",
    "print(f\"Verbindung zu MinIO-Endpoint: {MINIO_ENDPOINT} mit User: {MINIO_ACCESS_KEY}\")"
   ]
  },
  {
   "cell_type": "code",
   "execution_count": 2,
   "id": "9058cddb",
   "metadata": {},
   "outputs": [
    {
     "name": "stdout",
     "output_type": "stream",
     "text": [
      "Verarbeite Daten für: Heizkraftwerk\n"
     ]
    }
   ],
   "source": [
    "import json\n",
    "\n",
    "config_file_path = os.path.join(project_root, 'config', 'data_config.json')\n",
    "\n",
    "with open(config_file_path, 'r') as f:\n",
    "    config = json.load(f)\n",
    "\n",
    "print(f\"Verarbeite Daten für: {config['dataSourceName']}\")"
   ]
  },
  {
   "cell_type": "code",
   "execution_count": null,
   "id": "feaab69f",
   "metadata": {},
   "outputs": [
    {
     "name": "stdout",
     "output_type": "stream",
     "text": [
      "Projekt-Stammverzeichnis '/home/jovyan/work' zum sys.path hinzugefügt.\n"
     ]
    }
   ],
   "source": [
    "import sys\n",
    "\n",
    "if project_root not in sys.path:\n",
    "    sys.path.append(project_root)\n",
    "    print(f\"Projekt-Stammverzeichnis '{project_root}' zum sys.path hinzugefügt.\")\n",
    "\n",
    "from scripts import reader\n",
    "\n",
    "bronze_df = reader.read_data(spark, config)\n",
    "print(\"Bronze-Schema:\")\n",
    "bronze_df.printSchema()\n",
    "bronze_df.show(5, truncate=False)"
   ]
  },
  {
   "cell_type": "code",
   "execution_count": null,
   "id": "7979a145",
   "metadata": {},
   "outputs": [],
   "source": [
    "try:\n",
    "    spark.stop()\n",
    "except NameError:\n",
    "    pass"
   ]
  }
 ],
 "metadata": {
  "kernelspec": {
   "display_name": "Python 3 (ipykernel)",
   "language": "python",
   "name": "python3"
  },
  "language_info": {
   "codemirror_mode": {
    "name": "ipython",
    "version": 3
   },
   "file_extension": ".py",
   "mimetype": "text/x-python",
   "name": "python",
   "nbconvert_exporter": "python",
   "pygments_lexer": "ipython3",
   "version": "3.11.6"
  }
 },
 "nbformat": 4,
 "nbformat_minor": 5
}
